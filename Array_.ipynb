{
  "nbformat": 4,
  "nbformat_minor": 0,
  "metadata": {
    "colab": {
      "provenance": [],
      "authorship_tag": "ABX9TyNnGOYRidkZaOoumL7C+SCP",
      "include_colab_link": true
    },
    "kernelspec": {
      "name": "python3",
      "display_name": "Python 3"
    },
    "language_info": {
      "name": "python"
    }
  },
  "cells": [
    {
      "cell_type": "markdown",
      "metadata": {
        "id": "view-in-github",
        "colab_type": "text"
      },
      "source": [
        "<a href=\"https://colab.research.google.com/github/Aditi-Adri/Data_Structures_In_Python/blob/main/Array_.ipynb\" target=\"_parent\"><img src=\"https://colab.research.google.com/assets/colab-badge.svg\" alt=\"Open In Colab\"/></a>"
      ]
    },
    {
      "cell_type": "markdown",
      "source": [
        "### Linear Array"
      ],
      "metadata": {
        "id": "l7oXQfNfNQp_"
      }
    },
    {
      "cell_type": "code",
      "execution_count": 1,
      "metadata": {
        "id": "m9oJQ3czHVDs"
      },
      "outputs": [],
      "source": [
        "import numpy as np"
      ]
    },
    {
      "cell_type": "code",
      "source": [
        "# create\n",
        "\n",
        "ar = np.zeros (10,dtype=float)\n",
        "print(ar)\n",
        "ar = np.array ([1,2,3,4,5])\n",
        "print(ar)\n",
        "print(ar.dtype)\n",
        "print(ar.size)\n",
        "arr = np.random.randint(45, size=10)\n",
        "print(arr)"
      ],
      "metadata": {
        "colab": {
          "base_uri": "https://localhost:8080/"
        },
        "id": "9lR0ib0ENblP",
        "outputId": "576a27bc-7f16-4afb-9ef9-328f9a680d2c"
      },
      "execution_count": null,
      "outputs": [
        {
          "output_type": "stream",
          "name": "stdout",
          "text": [
            "[0. 0. 0. 0. 0. 0. 0. 0. 0. 0.]\n",
            "[1 2 3 4 5]\n",
            "int64\n",
            "5\n",
            "[25  4  0  8  2 15 21 43 20 18]\n"
          ]
        }
      ]
    },
    {
      "cell_type": "code",
      "source": [
        "# left shift\n",
        "\n",
        "arr = np.array([1,2,3,4,5], dtype=int)\n",
        "print(\"Before Left Shifting:\",arr)\n",
        "\n",
        "def leftShift(arr):\n",
        "    for i in range (len(arr)-1) :\n",
        "      arr[i] = arr[i+1]\n",
        "    arr[len(arr)-1] = 0\n",
        "\n",
        "leftShift(arr)\n",
        "print(\"After Left Shifting :\",arr)"
      ],
      "metadata": {
        "colab": {
          "base_uri": "https://localhost:8080/"
        },
        "id": "gBZ1uziVNbui",
        "outputId": "91f57241-1626-4d07-805e-bb130982a277"
      },
      "execution_count": null,
      "outputs": [
        {
          "output_type": "stream",
          "name": "stdout",
          "text": [
            "Before Left Shifting: [1 2 3 4 5]\n",
            "After Left Shifting : [2 3 4 5 0]\n"
          ]
        }
      ]
    },
    {
      "cell_type": "code",
      "source": [
        "# right shift\n",
        "\n",
        "arr = np.array([1,2,3,4,5], dtype=int)\n",
        "print(\"Before Right Shifting:\",arr)\n",
        "\n",
        "def rightShift (arr) :\n",
        "  for i in range (len(arr)-1,0,-1) :\n",
        "    arr[i] = arr[i-1]\n",
        "  arr[0] = 0\n",
        "\n",
        "rightShift(arr)\n",
        "print(\"After Right Shifting :\",arr)"
      ],
      "metadata": {
        "colab": {
          "base_uri": "https://localhost:8080/"
        },
        "id": "DFyX7ugYNMu4",
        "outputId": "8c1e8fd1-674d-4ca4-affb-4561273a562b"
      },
      "execution_count": null,
      "outputs": [
        {
          "output_type": "stream",
          "name": "stdout",
          "text": [
            "Before Right Shifting: [1 2 3 4 5]\n",
            "After Right Shifting : [0 1 2 3 4]\n"
          ]
        }
      ]
    },
    {
      "cell_type": "code",
      "source": [
        "# remove\n",
        "# left shift\n",
        "\n",
        "arr = np.array([1,2,3,4,5], dtype=int)\n",
        "print(\"Before removal:\",arr)\n",
        "\n",
        "def remove (arr,ind) :\n",
        "  for i in range (ind,len(arr)-1) :\n",
        "    arr[i] = arr[i+1]\n",
        "  arr[len(arr)-1] = 0\n",
        "\n",
        "remove(arr,2)\n",
        "print(\"After removing element at index 2:\",arr)"
      ],
      "metadata": {
        "colab": {
          "base_uri": "https://localhost:8080/"
        },
        "id": "AEfn_yooe0SQ",
        "outputId": "323b61a2-a08d-4a09-9c97-f6f75f526ee4"
      },
      "execution_count": null,
      "outputs": [
        {
          "output_type": "stream",
          "name": "stdout",
          "text": [
            "Before removal: [1 2 3 4 5]\n",
            "After removing element at index 2: [1 2 4 5 0]\n"
          ]
        }
      ]
    },
    {
      "cell_type": "code",
      "source": [
        "# insert\n",
        "# right shift\n",
        "\n",
        "arr = np.array([1,2,3,4,5,0,0], dtype=int)\n",
        "print(\"Before insertion:\",arr)\n",
        "\n",
        "def insert (arr,ind,elem) :\n",
        "  for i in range (len(arr)-1,ind,-1) :\n",
        "    arr[i] = arr[i-1]\n",
        "  arr[ind] = elem\n",
        "\n",
        "insert(arr, 2, 999)\n",
        "print(\"After inserting element at index 2:\",arr)"
      ],
      "metadata": {
        "colab": {
          "base_uri": "https://localhost:8080/"
        },
        "id": "pvmaC5dNe0b_",
        "outputId": "2964471b-0145-4c6a-f989-4ab0c84689a5"
      },
      "execution_count": null,
      "outputs": [
        {
          "output_type": "stream",
          "name": "stdout",
          "text": [
            "Before insertion: [1 2 3 4 5 0 0]\n",
            "After inserting element at index 2: [  1   2 999   3   4   5   0]\n"
          ]
        }
      ]
    },
    {
      "cell_type": "code",
      "source": [
        "# left rotate\n",
        "\n",
        "arr = np.array([1,2,3,4,5,6])\n",
        "print(arr)\n",
        "\n",
        "def left_rotate (arr) :\n",
        "  temp = arr[0]\n",
        "  leftShift(arr)\n",
        "  arr[len(arr)-1] = temp\n",
        "\n",
        "left_rotate(arr)\n",
        "print(arr)"
      ],
      "metadata": {
        "colab": {
          "base_uri": "https://localhost:8080/"
        },
        "id": "x2U6-EwdhY5e",
        "outputId": "c49b397b-bb61-41c3-8819-57bb32797c1f"
      },
      "execution_count": null,
      "outputs": [
        {
          "output_type": "stream",
          "name": "stdout",
          "text": [
            "[1 2 3 4 5 6]\n",
            "[2 3 4 5 6 1]\n"
          ]
        }
      ]
    },
    {
      "cell_type": "code",
      "source": [
        "# right rotate\n",
        "\n",
        "arr = np.array([1,2,3,4,5,6])\n",
        "print(arr)\n",
        "\n",
        "def right_rotate (arr) :\n",
        "  temp = arr[len(arr)-1]\n",
        "  rightShift(arr)\n",
        "  arr[0] = temp\n",
        "\n",
        "right_rotate(arr)\n",
        "print(arr)"
      ],
      "metadata": {
        "colab": {
          "base_uri": "https://localhost:8080/"
        },
        "id": "mIdYJ_Swjwwg",
        "outputId": "a1b9bf9f-4285-4283-d82c-c57042633186"
      },
      "execution_count": null,
      "outputs": [
        {
          "output_type": "stream",
          "name": "stdout",
          "text": [
            "[1 2 3 4 5 6]\n",
            "[6 1 2 3 4 5]\n"
          ]
        }
      ]
    },
    {
      "cell_type": "code",
      "source": [
        "# insert when array in full\n",
        "\n",
        "def insert_at (arr,ind,elem) :\n",
        "  ar = np.zeros(len(arr)+1,dtype=arr.dtype)\n",
        "  for i in range (len(arr)) :\n",
        "    ar[i] = arr[i]\n",
        "  insert (ar,ind,elem)\n",
        "  return ar\n",
        "\n",
        "arr = np.array ([1,2,3,4,5])\n",
        "print(arr)\n",
        "ar = insert_at (arr,2,999)\n",
        "print(ar)"
      ],
      "metadata": {
        "colab": {
          "base_uri": "https://localhost:8080/"
        },
        "id": "fTLHBFPDNMx9",
        "outputId": "d598f34e-713b-4b7f-c297-d9189607f331"
      },
      "execution_count": null,
      "outputs": [
        {
          "output_type": "stream",
          "name": "stdout",
          "text": [
            "[1 2 3 4 5]\n",
            "[  1   2 999   3   4   5]\n"
          ]
        }
      ]
    },
    {
      "cell_type": "code",
      "source": [],
      "metadata": {
        "id": "udnKDClkvghs"
      },
      "execution_count": null,
      "outputs": []
    },
    {
      "cell_type": "code",
      "source": [
        "# BINARY SEARCH\n",
        "# in sorted array\n",
        "\n",
        "def bin_search (ar,elem) :\n",
        "  left , right = 0 , len(ar)-1\n",
        "  while left <= right :\n",
        "    mid = (left+right)//2\n",
        "    if ar[mid] == elem :\n",
        "      return mid\n",
        "    elif elem > ar[mid] :\n",
        "      left = mid + 1\n",
        "    else :\n",
        "      right = mid - 1\n",
        "  return -1\n",
        "\n",
        "#       index          0  1  2  3  4   5   6   7   8   9   10  11  12  13  14  15  16\n",
        "sorted_arr = np.array([1, 3, 5, 7, 11, 13, 17, 19, 23, 29, 31, 37, 41, 43, 47, 53, 59])\n",
        "elem = 37\n",
        "idx = bin_search(sorted_arr, elem)\n",
        "print(f\"{elem} was found at index {idx}\")"
      ],
      "metadata": {
        "colab": {
          "base_uri": "https://localhost:8080/"
        },
        "id": "9_wFnyWUfU4p",
        "outputId": "af632887-47c9-4ef4-c2bc-94a7736d828a"
      },
      "execution_count": null,
      "outputs": [
        {
          "output_type": "stream",
          "name": "stdout",
          "text": [
            "37 was found at index 11\n"
          ]
        }
      ]
    },
    {
      "cell_type": "code",
      "source": [],
      "metadata": {
        "id": "Ojgw6SZxhWuv"
      },
      "execution_count": null,
      "outputs": []
    },
    {
      "cell_type": "markdown",
      "source": [
        "### Multi Dimentional Array"
      ],
      "metadata": {
        "id": "Nhahjf6vAMLN"
      }
    },
    {
      "cell_type": "code",
      "source": [
        "arr2D = np.array( [[1,2,4,6],[5,6,7,8],[9,0,1,2]] )\n",
        "print(arr2D)\n",
        "print(\"First Row\",arr2D[0])\n",
        "print(\"Second Row\",arr2D[1])\n",
        "print(\"Third Cell\",arr2D[0][2])\n",
        "\n",
        "ar = np.zeros (shape=(3,4),dtype=int)\n",
        "total = ar.size\n",
        "r , c = ar.shape\n",
        "print (\"Total cell\",total)"
      ],
      "metadata": {
        "colab": {
          "base_uri": "https://localhost:8080/"
        },
        "id": "yCyYzTEq_x2Z",
        "outputId": "f1a8fc25-9552-4c82-a65e-615817b854cd"
      },
      "execution_count": null,
      "outputs": [
        {
          "output_type": "stream",
          "name": "stdout",
          "text": [
            "[[1 2 4 6]\n",
            " [5 6 7 8]\n",
            " [9 0 1 2]]\n",
            "First Row [1 2 4 6]\n",
            "Second Row [5 6 7 8]\n",
            "Third Cell 4\n",
            "Total cell 12\n"
          ]
        }
      ]
    },
    {
      "cell_type": "code",
      "source": [
        "ar = np.array ([ [1,2,3,4],[5,6,7,8] ])\n",
        "r,c = ar.shape\n",
        "\n",
        "for i in range (r) :\n",
        "  for j in range (c) :\n",
        "    print(ar[i][j],end=\" \")\n",
        "  print()\n",
        "\n",
        "for i in range (c) :\n",
        "  for j in range (r) :\n",
        "    print(ar[j][i],end=\" \")\n",
        "  print()\n",
        "\n",
        "print(ar)\n",
        "print(ar.T)"
      ],
      "metadata": {
        "colab": {
          "base_uri": "https://localhost:8080/"
        },
        "id": "DvL-6oEQANmf",
        "outputId": "14e8f014-af47-4054-f679-af1cba043fd9"
      },
      "execution_count": null,
      "outputs": [
        {
          "output_type": "stream",
          "name": "stdout",
          "text": [
            "1 2 3 4 \n",
            "5 6 7 8 \n",
            "1 5 \n",
            "2 6 \n",
            "3 7 \n",
            "4 8 \n",
            "[[1 2 3 4]\n",
            " [5 6 7 8]]\n",
            "[[1 5]\n",
            " [2 6]\n",
            " [3 7]\n",
            " [4 8]]\n"
          ]
        }
      ]
    },
    {
      "cell_type": "code",
      "source": [
        "# transpose\n",
        "\n",
        "tr = np.zeros((c,r),dtype=int)\n",
        "for i in range (r) :\n",
        "  for j in range (c) :\n",
        "    tr[j][i] = ar[i][j]\n",
        "print(tr)"
      ],
      "metadata": {
        "colab": {
          "base_uri": "https://localhost:8080/"
        },
        "id": "kZfhyc07HxOT",
        "outputId": "d35b3d77-eb5b-439e-f329-3dcf4500b221"
      },
      "execution_count": null,
      "outputs": [
        {
          "output_type": "stream",
          "name": "stdout",
          "text": [
            "[[1 5]\n",
            " [2 6]\n",
            " [3 7]\n",
            " [4 8]]\n"
          ]
        }
      ]
    },
    {
      "cell_type": "code",
      "source": [
        "# Transpose in place\n",
        "#\n",
        "\n",
        "def trans (ar) :\n",
        "  r , c = ar.shape\n",
        "\n",
        "  if r != c :\n",
        "    return \"Not possible\"\n",
        "\n",
        "  for i in range (r) :\n",
        "    for j in range (i+1,c) :\n",
        "      ar[i][j] ,ar[j][i] = ar[j][i] , ar[i][j]\n",
        "  return ar\n",
        "\n",
        "\n",
        "a = np.array([ [1,2,3],[4,5,6],[7,8,9] ])\n",
        "print(a)\n",
        "print(trans(a))"
      ],
      "metadata": {
        "id": "1OSipk1AYQCB"
      },
      "execution_count": null,
      "outputs": []
    },
    {
      "cell_type": "code",
      "source": [
        "ar = np.array ([ [1,2,3,4],[5,6,7,8],[10,11,12,13],[14,15,16,17] ])\n",
        "print(ar)\n",
        "r,c = ar.shape\n",
        "print(\"Primary Diagonal : \")\n",
        "for i in range (r) :\n",
        "  for j in range (c) :\n",
        "    if i == j :\n",
        "      print(ar[i][i],end=\" \")\n",
        "print()\n",
        "print(\"Secondary diagonal : \")\n",
        "for i in range (r) :\n",
        "  for j in range (c) :\n",
        "    if i == c-1-j :\n",
        "      print(ar[i][j],end=\" \")\n",
        "print()"
      ],
      "metadata": {
        "colab": {
          "base_uri": "https://localhost:8080/"
        },
        "id": "nONUsQvaANpm",
        "outputId": "5aff14ec-12e6-40a9-9e4e-fb42f96363e5"
      },
      "execution_count": null,
      "outputs": [
        {
          "output_type": "stream",
          "name": "stdout",
          "text": [
            "[[ 1  2  3  4]\n",
            " [ 5  6  7  8]\n",
            " [10 11 12 13]\n",
            " [14 15 16 17]]\n",
            "Primary Diagonal : \n",
            "1 6 12 17 \n",
            "Secondary diagonal : \n",
            "4 7 11 14 \n"
          ]
        }
      ]
    },
    {
      "cell_type": "code",
      "source": [
        "# clockwise rotate the boundaries :\n",
        "#     1. transpose the matrix\n",
        "#     2. reverse the row\n",
        "\n",
        "# clockwise rotate the boundaries :\n",
        "#     1. transpose the matrix\n",
        "#     2. reverse the column\n"
      ],
      "metadata": {
        "id": "XJE7q37oANvF"
      },
      "execution_count": null,
      "outputs": []
    },
    {
      "cell_type": "code",
      "source": [
        "#\n",
        "\n",
        "def rotate (ar) :\n",
        "  r , c = ar.shape\n",
        "\n",
        "  for i in range (r) :\n",
        "    for j in range (i+1,r) :\n",
        "      ar[i][j] ,ar[j][i] = ar[j][i] , ar[i][j]\n",
        "\n",
        "\n",
        "  for i in range (r) :\n",
        "    for j in range (r//2) :\n",
        "      ar[i][j],ar[i][r-1-j] = ar[i][r-1-j] ,ar[i][j]\n",
        "\n",
        "\n",
        "  return ar\n",
        "\n",
        "\n",
        "a = np.array([ [1,2,3],[4,5,6],[7,8,9] ])\n",
        "# a = np.array([ [1,2,3,4],[5,6,7,8],[9,10,11,12],[13,14,15,16] ])\n",
        "print(a)\n",
        "print(rotate(a))"
      ],
      "metadata": {
        "id": "M_5Bz4mrMXSP"
      },
      "execution_count": null,
      "outputs": []
    },
    {
      "cell_type": "code",
      "source": [
        "# 9\n",
        "\n",
        "def rotate (ar) :\n",
        "  r , c = ar.shape\n",
        "\n",
        "  for i in range (r) :\n",
        "    for j in range (i+1,r) :\n",
        "      ar[i][j] ,ar[j][i] = ar[j][i] , ar[i][j]\n",
        "\n",
        "\n",
        "  for i in range (r) :\n",
        "    for j in range (r//2) :\n",
        "      ar[j][i],ar[r-1-j][i] = ar[r-1-j][i] ,ar[j][i]\n",
        "\n",
        "\n",
        "  return ar\n",
        "\n",
        "\n",
        "# a = np.array([ [1,2,3],[4,5,6],[7,8,9] ])\n",
        "a = np.array([ [1,2,3,4],[5,6,7,8],[9,10,11,12],[13,14,15,16] ])\n",
        "print(a)\n",
        "print(rotate(a))"
      ],
      "metadata": {
        "id": "ycsBlPZHMXVU"
      },
      "execution_count": null,
      "outputs": []
    },
    {
      "cell_type": "code",
      "source": [
        "# boundary items\n",
        "\n",
        "a = np.array([ [1,2,3,4],[5,6,7,8],[9,10,11,12],[13,14,15,16] ])\n",
        "print(a)\n",
        "\n",
        "def bound (ar) :\n",
        "  r , c = ar.shape\n",
        "  n = (c*2)+ (2*r-4)\n",
        "  k = 0\n",
        "  new = np.array([0]*n)\n",
        "\n",
        "  for i in range (r) :\n",
        "    for j in range (c) :\n",
        "      if i == 0 :\n",
        "        new[k] = ar[i][j]\n",
        "        k += 1\n",
        "      if i != 0 and i != r-1 and j == c-1 :\n",
        "        new[k] = ar[i][j]\n",
        "        k += 1\n",
        "      if i == r-1   :\n",
        "        new[k] = ar[r-1][c-1-j]\n",
        "        k += 1\n",
        "\n",
        "  for i in range (r) :\n",
        "    if i != 0 and i != r-1 :\n",
        "      new[k] = ar[c-1-i][0]\n",
        "      k += 1\n",
        "\n",
        "\n",
        "  return new\n",
        "\n",
        "\n",
        "print(bound(a))\n",
        "\n"
      ],
      "metadata": {
        "id": "wQIPuNCXhWz3"
      },
      "execution_count": null,
      "outputs": []
    },
    {
      "cell_type": "code",
      "source": [
        "# multiplication\n",
        "\n",
        "a = np.array([ [1,2,3],[4,5,6] ])\n",
        "b = np.array([ [10,11],[20,21],[30,31] ])\n",
        "\n",
        "r1 , c1 = a.shape\n",
        "r2 , c2 = b.shape\n",
        "\n",
        "if r1 != c2  :\n",
        "  print(\"Not possible\")\n",
        "\n",
        "new = np.zeros ((r1,c2),dtype=int)\n",
        "\n",
        "for i in range (r1) :\n",
        "  for j in range (c2) :\n",
        "    for k in range (c1) :\n",
        "      new[i][j] += a[i][k]*b[k][j]\n",
        "\n",
        "print(new)\n"
      ],
      "metadata": {
        "id": "VNYCfTT3YKWq"
      },
      "execution_count": null,
      "outputs": []
    },
    {
      "cell_type": "code",
      "source": [],
      "metadata": {
        "id": "knSEs0taYKbp"
      },
      "execution_count": null,
      "outputs": []
    },
    {
      "cell_type": "code",
      "source": [],
      "metadata": {
        "id": "Ox85OITyYifh"
      },
      "execution_count": null,
      "outputs": []
    },
    {
      "cell_type": "code",
      "source": [],
      "metadata": {
        "id": "V8J273yBYiiQ"
      },
      "execution_count": null,
      "outputs": []
    },
    {
      "cell_type": "code",
      "source": [],
      "metadata": {
        "id": "89yzJdFuYina"
      },
      "execution_count": null,
      "outputs": []
    }
  ]
}